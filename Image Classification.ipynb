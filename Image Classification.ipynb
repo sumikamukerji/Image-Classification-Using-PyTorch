{
    "cells": [
        {
            "cell_type": "markdown",
            "metadata": {
                "id": "96d6f2a1-4cc3-4840-94c8-6b4807275de6"
            },
            "source": "<h1><h1>Image Classification with PyTorch </h1>\n"
        },
        {
            "cell_type": "markdown",
            "metadata": {
                "id": "e9f96647-03e0-4d4e-a4aa-5b65647b406d"
            },
            "source": "In this project pre-trained models have been used to classify between the negative and positive samples of a dataset. This dataset comprises of images of tiles and the objective is to identify the tiles that have cracks and hence should not be used. The particular pre-trained model used here is resnet18. The following three main tasks have been accomplished using PyTorch:\n\n<ul>\n<li>Changed the output layer</li>\n<li>Trained the model</li> \n<li>Identified  several  misclassified samples</li> \n </ul>\n\n"
        },
        {
            "cell_type": "markdown",
            "metadata": {
                "id": "3ab5fb36-e725-4078-84c6-61b4e4f321a5"
            },
            "source": "<h2>Table of Contents</h2>\n"
        },
        {
            "cell_type": "markdown",
            "metadata": {
                "id": "a625a5b9-6353-4889-8910-4fe50cc18067"
            },
            "source": "<div class=\"alert alert-block alert-info\" style=\"margin-top: 20px\">\n\n<ul>\n    <li><a> Download Data</a></li>\n    <li><a> Imports and Auxiliary Functions </a></li>\n    <li><a> Dataset Class</a></li>\n    <li><a> Prepare a pre-trained resnet18 model</a></li>\n    <li><a> Train the Model</a></li>\n    <li><a> Missclassified Samples</a></li>\n</ul>\n\n\n\n"
        },
        {
            "cell_type": "markdown",
            "metadata": {
                "id": "b1bc42c1-8581-4803-a1de-37fd3f106e78"
            },
            "source": "<h2 id=\"download_data\">Download Data</h2>\n"
        },
        {
            "cell_type": "code",
            "execution_count": 1,
            "metadata": {
                "id": "73b8bf88-3151-4861-be14-8e8f6827a7a5"
            },
            "outputs": [
                {
                    "name": "stdout",
                    "output_type": "stream",
                    "text": "--2022-06-23 13:48:00--  https://s3-api.us-geo.objectstorage.softlayer.net/cf-courses-data/CognitiveClass/DL0321EN/data/images/Positive_tensors.zip\nResolving s3-api.us-geo.objectstorage.softlayer.net (s3-api.us-geo.objectstorage.softlayer.net)... 67.228.254.196\nConnecting to s3-api.us-geo.objectstorage.softlayer.net (s3-api.us-geo.objectstorage.softlayer.net)|67.228.254.196|:443... connected.\nHTTP request sent, awaiting response... 200 OK\nLength: 2598656062 (2.4G) [application/zip]\nSaving to: \u2018Positive_tensors.zip\u2019\n\nPositive_tensors.zi 100%[===================>]   2.42G  30.3MB/s    in 81s     \n\n2022-06-23 13:49:21 (30.7 MB/s) - \u2018Positive_tensors.zip\u2019 saved [2598656062/2598656062]\n\n"
                }
            ],
            "source": "!wget https://s3-api.us-geo.objectstorage.softlayer.net/cf-courses-data/CognitiveClass/DL0321EN/data/images/Positive_tensors.zip "
        },
        {
            "cell_type": "code",
            "execution_count": 2,
            "metadata": {
                "id": "0eb9901a-b9d9-48ef-aa3b-888d771a68ea"
            },
            "outputs": [],
            "source": "!unzip -q Positive_tensors.zip "
        },
        {
            "cell_type": "code",
            "execution_count": 3,
            "metadata": {
                "id": "429ad6f6-1d35-41c1-9c13-e4318af5f8e7"
            },
            "outputs": [
                {
                    "name": "stdout",
                    "output_type": "stream",
                    "text": "--2022-06-23 13:50:36--  https://s3-api.us-geo.objectstorage.softlayer.net/cf-courses-data/CognitiveClass/DL0321EN/data/images/Negative_tensors.zip\nResolving s3-api.us-geo.objectstorage.softlayer.net (s3-api.us-geo.objectstorage.softlayer.net)... 67.228.254.196\nConnecting to s3-api.us-geo.objectstorage.softlayer.net (s3-api.us-geo.objectstorage.softlayer.net)|67.228.254.196|:443... connected.\nHTTP request sent, awaiting response... 200 OK\nLength: 2111408108 (2.0G) [application/zip]\nSaving to: \u2018Negative_tensors.zip\u2019\n\nNegative_tensors.zi 100%[===================>]   1.97G  27.8MB/s    in 69s     \n\n2022-06-23 13:51:46 (29.0 MB/s) - \u2018Negative_tensors.zip\u2019 saved [2111408108/2111408108]\n\n"
                }
            ],
            "source": "! wget https://s3-api.us-geo.objectstorage.softlayer.net/cf-courses-data/CognitiveClass/DL0321EN/data/images/Negative_tensors.zip\n!unzip -q Negative_tensors.zip"
        },
        {
            "cell_type": "markdown",
            "metadata": {
                "id": "2d544afa-2939-48af-9a13-a61f0fdaccd3"
            },
            "source": "Install torchvision:\n"
        },
        {
            "cell_type": "code",
            "execution_count": 4,
            "metadata": {
                "id": "2deab7fa-435d-41c6-b2dd-7190e1aee6a4"
            },
            "outputs": [
                {
                    "name": "stdout",
                    "output_type": "stream",
                    "text": "Requirement already satisfied: torchvision in /opt/conda/envs/Python-3.9/lib/python3.9/site-packages (0.11.2)\r\nRequirement already satisfied: numpy in /opt/conda/envs/Python-3.9/lib/python3.9/site-packages (from torchvision) (1.20.3)\r\nRequirement already satisfied: torch in /opt/conda/envs/Python-3.9/lib/python3.9/site-packages (from torchvision) (1.10.1)\r\nRequirement already satisfied: pillow!=8.3.0,>=5.3.0 in /opt/conda/envs/Python-3.9/lib/python3.9/site-packages (from torchvision) (8.4.0)\r\nRequirement already satisfied: typing_extensions in /opt/conda/envs/Python-3.9/lib/python3.9/site-packages (from torch->torchvision) (3.7.4.3)\r\n"
                }
            ],
            "source": "!pip install torchvision"
        },
        {
            "cell_type": "code",
            "execution_count": 5,
            "metadata": {
                "id": "9aa8897a-7d4a-43a2-b2b0-516dc5f19d33"
            },
            "outputs": [
                {
                    "name": "stdout",
                    "output_type": "stream",
                    "text": "/home/wsuser/work\r\n"
                }
            ],
            "source": "!pwd"
        },
        {
            "cell_type": "code",
            "execution_count": 6,
            "metadata": {
                "id": "88ed8114-64bf-40f6-848e-8a42198080ac"
            },
            "outputs": [
                {
                    "name": "stdout",
                    "output_type": "stream",
                    "text": "/usr/bin/sh: line 0: cd: /home/dsxuser/work/Positive_tensors: No such file or directory\r\n"
                }
            ],
            "source": "! cd /home/dsxuser/work/Positive_tensors\n"
        },
        {
            "cell_type": "code",
            "execution_count": 7,
            "metadata": {
                "id": "0f89e8ad-d2d8-4d81-85f5-bae92cc2906f"
            },
            "outputs": [
                {
                    "name": "stdout",
                    "output_type": "stream",
                    "text": "Negative_tensors  Negative_tensors.zip\tPositive_tensors  Positive_tensors.zip\r\n"
                }
            ],
            "source": "!ls"
        },
        {
            "cell_type": "code",
            "execution_count": 8,
            "metadata": {
                "id": "ab9660e8-bfaa-4a06-80a3-85617b99389c"
            },
            "outputs": [
                {
                    "name": "stdout",
                    "output_type": "stream",
                    "text": "/home/wsuser/work\r\n"
                }
            ],
            "source": "!pwd"
        },
        {
            "cell_type": "code",
            "execution_count": 9,
            "metadata": {
                "id": "377ebeeb-8dc4-4d72-94c4-9c44620db1ce"
            },
            "outputs": [
                {
                    "name": "stdout",
                    "output_type": "stream",
                    "text": "Negative_tensors  Negative_tensors.zip\tPositive_tensors  Positive_tensors.zip\r\n"
                }
            ],
            "source": "!cd /home/wsuser/work/Positive_tensors\n!ls"
        },
        {
            "cell_type": "code",
            "execution_count": 10,
            "metadata": {
                "id": "b401aa7d-5947-46ad-8881-c57fc0589a41"
            },
            "outputs": [
                {
                    "name": "stdout",
                    "output_type": "stream",
                    "text": "Negative_tensors  Negative_tensors.zip\tPositive_tensors  Positive_tensors.zip\r\n"
                }
            ],
            "source": "!ls"
        },
        {
            "cell_type": "markdown",
            "metadata": {
                "id": "e444974f-5d6e-4692-8a9a-1127adcb8ce2"
            },
            "source": "<h2 id=\"auxiliary\">Imports and Auxiliary Functions</h2>\n"
        },
        {
            "cell_type": "markdown",
            "metadata": {
                "id": "5b7db94b-8349-4b2e-9ff3-1a9a3c0ec030"
            },
            "source": "The following are the libraries required. The <code>torch.manual_seed()</code> is for forcing the random function to give the same number every time we try to recompile it.\n"
        },
        {
            "cell_type": "code",
            "execution_count": 11,
            "metadata": {
                "id": "b43c1e58-b9b7-4f99-a330-ca00444922db"
            },
            "outputs": [
                {
                    "data": {
                        "text/plain": "<torch._C.Generator at 0x7fc7784dbd50>"
                    },
                    "execution_count": 11,
                    "metadata": {},
                    "output_type": "execute_result"
                }
            ],
            "source": "# These are the libraries will be used for this lab.\nimport torchvision.models as models\nfrom PIL import Image\nimport pandas\nfrom torchvision import transforms\nimport torch.nn as nn\nimport time\nimport torch \nimport matplotlib.pylab as plt\nimport numpy as np\nfrom torch.utils.data import Dataset, DataLoader\nimport h5py\nimport os\nimport glob\ntorch.manual_seed(0)"
        },
        {
            "cell_type": "code",
            "execution_count": 12,
            "metadata": {
                "id": "97ed31bf-ff50-4ada-808d-344a63f51571"
            },
            "outputs": [],
            "source": "from matplotlib.pyplot import imshow\nimport matplotlib.pylab as plt\nfrom PIL import Image\nimport pandas as pd\nimport os"
        },
        {
            "cell_type": "markdown",
            "metadata": {
                "id": "abfa085a-c48f-4973-a763-8f13389a35c9"
            },
            "source": "<!--Empty Space for separating topics-->\n"
        },
        {
            "cell_type": "markdown",
            "metadata": {
                "id": "6d598e73-b670-4818-a16d-2c2065f6daac"
            },
            "source": "<h2 id=\"data_class\">Dataset Class</h2>\n"
        },
        {
            "cell_type": "markdown",
            "metadata": {
                "id": "c0605e45-4e4e-4c3b-a3a3-4eed31064f09"
            },
            "source": "Build the dataset class \n"
        },
        {
            "cell_type": "code",
            "execution_count": 13,
            "metadata": {
                "id": "d826df5a-976e-4927-a372-3e74aa4355cb"
            },
            "outputs": [
                {
                    "name": "stdout",
                    "output_type": "stream",
                    "text": "done\n"
                }
            ],
            "source": "# Create your own dataset object\n\nclass Dataset(Dataset):\n\n    # Constructor\n    def __init__(self,transform=None,train=True):\n        directory=\"/home/dsxuser/work\"\n        positive=\"Positive_tensors\"\n        negative='Negative_tensors'\n\n        positive_file_path=os.path.join(directory,positive)\n        positive_file_path='/home/wsuser/work/Positive_tensors'\n        print(positive_file_path)\n        negative_file_path=os.path.join(directory,negative)\n        negative_file_path='/home/wsuser/work/Negative_tensors'\n        positive_files=[os.path.join(positive_file_path,file) for file in os.listdir(positive_file_path) if file.endswith(\".pt\")]\n        negative_files=[os.path.join(negative_file_path,file) for file in os.listdir(negative_file_path) if file.endswith(\".pt\")]\n        number_of_samples=len(positive_files)+len(negative_files)\n        self.all_files=[None]*number_of_samples\n        self.all_files[::2]=positive_files\n        self.all_files[1::2]=negative_files \n        # The transform is goint to be used on image\n        self.transform = transform\n        #torch.LongTensor\n        self.Y=torch.zeros([number_of_samples]).type(torch.LongTensor)\n        self.Y[::2]=1\n        self.Y[1::2]=0\n        \n        if train:\n            self.all_files=self.all_files[0:30000]\n            self.Y=self.Y[0:30000]\n            self.len=len(self.all_files)\n        else:\n            self.all_files=self.all_files[30000:]\n            self.Y=self.Y[30000:]\n            self.len=len(self.all_files)     \n       \n    # Get the length\n    def __len__(self):\n        return self.len\n    \n    # Getter\n    def __getitem__(self, idx):\n               \n        image=torch.load(self.all_files[idx])\n        y=self.Y[idx]\n                  \n        # If there is any transform method, apply it onto the image\n        if self.transform:\n            image = self.transform(image)\n\n        return image, y\n    \nprint(\"done\")"
        },
        {
            "cell_type": "markdown",
            "metadata": {
                "id": "1d3d2c38-db6f-4c25-9064-ba49d3566adb"
            },
            "source": "Create two dataset objects, one for the training data and one for the validation data.\n"
        },
        {
            "cell_type": "code",
            "execution_count": 14,
            "metadata": {
                "id": "b10b2a7b-4c2e-4c11-9683-75e56da802c6"
            },
            "outputs": [
                {
                    "name": "stdout",
                    "output_type": "stream",
                    "text": "/home/wsuser/work/Positive_tensors\n/home/wsuser/work/Positive_tensors\ndone\n"
                }
            ],
            "source": "train_dataset = Dataset(train=True)\nvalidation_dataset = Dataset(train=False)\nprint(\"done\")"
        },
        {
            "cell_type": "markdown",
            "metadata": {
                "id": "f63ba060-2973-43c7-9dfb-4e274b125950"
            },
            "source": "<h2>Prepare a pre-trained resnet18 model :</h2>\n"
        },
        {
            "cell_type": "markdown",
            "metadata": {
                "id": "70da9f83-0df0-4c32-9eee-62796662a8c4"
            },
            "source": "<b>Step 1</b>: Load the pre-trained model <code>resnet18</code> Set the parameter <code>pretrained</code> to true:\n"
        },
        {
            "cell_type": "code",
            "execution_count": null,
            "metadata": {
                "id": "34b6e436-a982-4602-903c-c2a01037f3a1"
            },
            "outputs": [],
            "source": "# Step 1: Load the pre-trained model resnet18\n\nmodel=models.resnet18(pretrained=True)\nmean = [0.485, 0.456, 0.406]\nstd = [0.229, 0.224, 0.225]\n\ncomposed = transforms.Compose([transforms.Resize(224),\n                               transforms.ToTensor(),\n                               transforms.Normalize(mean, std)])"
        },
        {
            "cell_type": "markdown",
            "metadata": {
                "id": "44122091-43f3-4d19-9f0b-9739b9291753"
            },
            "source": "<b>Step 2</b>: Set the attribute <code>requires_grad</code> to <code>False</code>. As a result, the parameters will not be affected by training.\n"
        },
        {
            "cell_type": "code",
            "execution_count": 16,
            "metadata": {
                "id": "f7b68e4f-a8d8-42fb-83f1-70e79d790910"
            },
            "outputs": [],
            "source": "# Step 2: Set the parameter cannot be trained for the pre-trained model\n\nfor param in model.parameters():\n    param.requires_grad=False"
        },
        {
            "cell_type": "markdown",
            "metadata": {
                "id": "51ef538a-a427-42f7-af59-02abdbfbb57f"
            },
            "source": "<code>resnet18</code> is used to classify 1000 different objects; as a result, the last layer has 1000 outputs.  The 512 inputs come from the fact that the previously hidden layer has 512 outputs.\n"
        },
        {
            "cell_type": "markdown",
            "metadata": {
                "id": "517e1d74-426d-481f-b8b0-b930ab786ccd"
            },
            "source": "<b>Step 3</b>: Replace the output layer <code>model.fc</code> of the neural network with a <code>nn.Linear</code> object, to classify 2 different classes. For the parameters <code>in_features </code>  the last hidden layer has 512 neurons.\n"
        },
        {
            "cell_type": "code",
            "execution_count": 17,
            "metadata": {
                "id": "32595ae5-de2d-44fa-a58e-c431018a26ef"
            },
            "outputs": [],
            "source": "model.fc=nn.Linear(512,2)"
        },
        {
            "cell_type": "code",
            "execution_count": 18,
            "metadata": {
                "id": "7e72db2e-c111-4500-88fb-4740a8d16973"
            },
            "outputs": [
                {
                    "name": "stdout",
                    "output_type": "stream",
                    "text": "ResNet(\n  (conv1): Conv2d(3, 64, kernel_size=(7, 7), stride=(2, 2), padding=(3, 3), bias=False)\n  (bn1): BatchNorm2d(64, eps=1e-05, momentum=0.1, affine=True, track_running_stats=True)\n  (relu): ReLU(inplace=True)\n  (maxpool): MaxPool2d(kernel_size=3, stride=2, padding=1, dilation=1, ceil_mode=False)\n  (layer1): Sequential(\n    (0): BasicBlock(\n      (conv1): Conv2d(64, 64, kernel_size=(3, 3), stride=(1, 1), padding=(1, 1), bias=False)\n      (bn1): BatchNorm2d(64, eps=1e-05, momentum=0.1, affine=True, track_running_stats=True)\n      (relu): ReLU(inplace=True)\n      (conv2): Conv2d(64, 64, kernel_size=(3, 3), stride=(1, 1), padding=(1, 1), bias=False)\n      (bn2): BatchNorm2d(64, eps=1e-05, momentum=0.1, affine=True, track_running_stats=True)\n    )\n    (1): BasicBlock(\n      (conv1): Conv2d(64, 64, kernel_size=(3, 3), stride=(1, 1), padding=(1, 1), bias=False)\n      (bn1): BatchNorm2d(64, eps=1e-05, momentum=0.1, affine=True, track_running_stats=True)\n      (relu): ReLU(inplace=True)\n      (conv2): Conv2d(64, 64, kernel_size=(3, 3), stride=(1, 1), padding=(1, 1), bias=False)\n      (bn2): BatchNorm2d(64, eps=1e-05, momentum=0.1, affine=True, track_running_stats=True)\n    )\n  )\n  (layer2): Sequential(\n    (0): BasicBlock(\n      (conv1): Conv2d(64, 128, kernel_size=(3, 3), stride=(2, 2), padding=(1, 1), bias=False)\n      (bn1): BatchNorm2d(128, eps=1e-05, momentum=0.1, affine=True, track_running_stats=True)\n      (relu): ReLU(inplace=True)\n      (conv2): Conv2d(128, 128, kernel_size=(3, 3), stride=(1, 1), padding=(1, 1), bias=False)\n      (bn2): BatchNorm2d(128, eps=1e-05, momentum=0.1, affine=True, track_running_stats=True)\n      (downsample): Sequential(\n        (0): Conv2d(64, 128, kernel_size=(1, 1), stride=(2, 2), bias=False)\n        (1): BatchNorm2d(128, eps=1e-05, momentum=0.1, affine=True, track_running_stats=True)\n      )\n    )\n    (1): BasicBlock(\n      (conv1): Conv2d(128, 128, kernel_size=(3, 3), stride=(1, 1), padding=(1, 1), bias=False)\n      (bn1): BatchNorm2d(128, eps=1e-05, momentum=0.1, affine=True, track_running_stats=True)\n      (relu): ReLU(inplace=True)\n      (conv2): Conv2d(128, 128, kernel_size=(3, 3), stride=(1, 1), padding=(1, 1), bias=False)\n      (bn2): BatchNorm2d(128, eps=1e-05, momentum=0.1, affine=True, track_running_stats=True)\n    )\n  )\n  (layer3): Sequential(\n    (0): BasicBlock(\n      (conv1): Conv2d(128, 256, kernel_size=(3, 3), stride=(2, 2), padding=(1, 1), bias=False)\n      (bn1): BatchNorm2d(256, eps=1e-05, momentum=0.1, affine=True, track_running_stats=True)\n      (relu): ReLU(inplace=True)\n      (conv2): Conv2d(256, 256, kernel_size=(3, 3), stride=(1, 1), padding=(1, 1), bias=False)\n      (bn2): BatchNorm2d(256, eps=1e-05, momentum=0.1, affine=True, track_running_stats=True)\n      (downsample): Sequential(\n        (0): Conv2d(128, 256, kernel_size=(1, 1), stride=(2, 2), bias=False)\n        (1): BatchNorm2d(256, eps=1e-05, momentum=0.1, affine=True, track_running_stats=True)\n      )\n    )\n    (1): BasicBlock(\n      (conv1): Conv2d(256, 256, kernel_size=(3, 3), stride=(1, 1), padding=(1, 1), bias=False)\n      (bn1): BatchNorm2d(256, eps=1e-05, momentum=0.1, affine=True, track_running_stats=True)\n      (relu): ReLU(inplace=True)\n      (conv2): Conv2d(256, 256, kernel_size=(3, 3), stride=(1, 1), padding=(1, 1), bias=False)\n      (bn2): BatchNorm2d(256, eps=1e-05, momentum=0.1, affine=True, track_running_stats=True)\n    )\n  )\n  (layer4): Sequential(\n    (0): BasicBlock(\n      (conv1): Conv2d(256, 512, kernel_size=(3, 3), stride=(2, 2), padding=(1, 1), bias=False)\n      (bn1): BatchNorm2d(512, eps=1e-05, momentum=0.1, affine=True, track_running_stats=True)\n      (relu): ReLU(inplace=True)\n      (conv2): Conv2d(512, 512, kernel_size=(3, 3), stride=(1, 1), padding=(1, 1), bias=False)\n      (bn2): BatchNorm2d(512, eps=1e-05, momentum=0.1, affine=True, track_running_stats=True)\n      (downsample): Sequential(\n        (0): Conv2d(256, 512, kernel_size=(1, 1), stride=(2, 2), bias=False)\n        (1): BatchNorm2d(512, eps=1e-05, momentum=0.1, affine=True, track_running_stats=True)\n      )\n    )\n    (1): BasicBlock(\n      (conv1): Conv2d(512, 512, kernel_size=(3, 3), stride=(1, 1), padding=(1, 1), bias=False)\n      (bn1): BatchNorm2d(512, eps=1e-05, momentum=0.1, affine=True, track_running_stats=True)\n      (relu): ReLU(inplace=True)\n      (conv2): Conv2d(512, 512, kernel_size=(3, 3), stride=(1, 1), padding=(1, 1), bias=False)\n      (bn2): BatchNorm2d(512, eps=1e-05, momentum=0.1, affine=True, track_running_stats=True)\n    )\n  )\n  (avgpool): AdaptiveAvgPool2d(output_size=(1, 1))\n  (fc): Linear(in_features=512, out_features=2, bias=True)\n)\n"
                }
            ],
            "source": "print(model)"
        },
        {
            "cell_type": "markdown",
            "metadata": {
                "id": "0ea5f55c-44b3-431a-be6b-821322f9d3a8"
            },
            "source": "<h2>Train the Model</h2>\n"
        },
        {
            "cell_type": "markdown",
            "metadata": {
                "id": "81bc6caf-3ff1-4268-b035-52ed02590ee1"
            },
            "source": "<b>Step 1</b>: Create a cross entropy criterion function\n"
        },
        {
            "cell_type": "code",
            "execution_count": 19,
            "metadata": {
                "id": "cffea0ec-4233-44b3-b6b5-ca1dfd751ecf"
            },
            "outputs": [],
            "source": "# Step 1: Create the loss function\n\ncriterion = nn.CrossEntropyLoss()"
        },
        {
            "cell_type": "markdown",
            "metadata": {
                "id": "39d09cb0-6e19-4826-bdc8-f0a1bf753f9b"
            },
            "source": "<b>Step 2</b>: Create a training loader and validation loader object, the batch size should have 100 samples each.\n"
        },
        {
            "cell_type": "code",
            "execution_count": 20,
            "metadata": {
                "id": "52446499-ea75-43c5-8941-ac5f5e39b106"
            },
            "outputs": [],
            "source": "train_loader=torch.utils.data.DataLoader(dataset=train_dataset, batch_size=100)\nvalidation_loader=torch.utils.data.DataLoader(dataset=validation_dataset, batch_size=100)"
        },
        {
            "cell_type": "markdown",
            "metadata": {
                "id": "b2f254d9-726b-4b37-8d93-bbf774203c07"
            },
            "source": "<b>Step 3</b>: Use the following optimizer to minimize the loss\n"
        },
        {
            "cell_type": "code",
            "execution_count": 21,
            "metadata": {
                "id": "ce3bc89f-4460-4fa5-b83f-42ebbd55d3b9"
            },
            "outputs": [],
            "source": "optimizer = torch.optim.Adam([parameters  for parameters in model.parameters() if parameters.requires_grad],lr=0.001)"
        },
        {
            "cell_type": "markdown",
            "metadata": {
                "id": "c44e6914-1574-4128-aee3-15622947a36e"
            },
            "source": "<!--Empty Space for separating topics-->\n"
        },
        {
            "cell_type": "markdown",
            "metadata": {
                "id": "bbfcb38f-1c0c-4804-b377-fe6e7ea18e92"
            },
            "source": "Calculating the accuracy on the validation data for one epoch\n"
        },
        {
            "cell_type": "code",
            "execution_count": 22,
            "metadata": {
                "id": "427d4d9a-1d3d-439d-89f8-735b3485750b"
            },
            "outputs": [],
            "source": "n_epochs=1\nloss_list=[]\naccuracy_list=[]\ncorrect=0\nN_test=len(validation_dataset)\nN_train=len(train_dataset)\nstart_time = time.time()\n#n_epochs\n\nLoss=0\nstart_time = time.time()\nfor epoch in range(n_epochs):\n    for x, y in train_loader:\n\n        model.train() \n        #clear gradient \n        optimizer.zero_grad()\n        #make a prediction \n        z=model(x)\n        # calculate loss \n        loss=criterion(z,y)\n        # calculate gradients of parameters \n        loss.backward()\n        # update parameters \n        optimizer.step()\n        loss_list.append(loss.data)\n    correct=0\n    for x_test, y_test in validation_loader:\n        # set model to eval \n        model.eval()\n        #make a prediction \n        z=model(x_test)\n        #find max \n        _, yhat= torch.max(z.data,1)\n       \n        #Calculate misclassified  samples in mini-batch \n        #hint +=(yhat==y_test).sum().item()\n        correct +=(yhat==y_test).sum().item()\n   \n    accuracy=correct/N_test\n    accuracy_list.append(accuracy)\n       \n   \n    \n\n"
        },
        {
            "cell_type": "markdown",
            "metadata": {
                "id": "e53909a7-9f05-4755-ae07-c3c39eecdb96"
            },
            "source": "Accuracy\n"
        },
        {
            "cell_type": "code",
            "execution_count": 26,
            "metadata": {
                "id": "bf7f24a7-46aa-46d4-a4df-818966c17e0b"
            },
            "outputs": [
                {
                    "data": {
                        "text/plain": "0.9935"
                    },
                    "execution_count": 26,
                    "metadata": {},
                    "output_type": "execute_result"
                }
            ],
            "source": "accuracy"
        },
        {
            "cell_type": "markdown",
            "metadata": {
                "id": "b8cde640149a459f88666727d67d93e1"
            },
            "source": "Loss Plot"
        },
        {
            "cell_type": "code",
            "execution_count": 40,
            "metadata": {
                "id": "37a7b7e8-44a0-4fdf-b125-a81cb474fb62"
            },
            "outputs": [
                {
                    "data": {
                        "image/png": "[encoded data removed]",
                        "text/plain": "<Figure size 432x288 with 1 Axes>"
                    },
                    "metadata": {
                        "needs_background": "light"
                    },
                    "output_type": "display_data"
                }
            ],
            "source": "plt.plot(loss_list)\nplt.xlabel(\"iteration\")\nplt.ylabel(\"loss\")\nplt.show()\n"
        },
        {
            "cell_type": "markdown",
            "metadata": {
                "id": "8170b786-8764-40b8-8b0b-70d5fda0c41f"
            },
            "source": "<h2>Misclassified samples</h2> \n"
        },
        {
            "cell_type": "markdown",
            "metadata": {
                "id": "3677a724-f1d9-4ccf-833d-167f982c9ca2"
            },
            "source": "<b>Identifying the first four misclassified samples using the validation data:</b>\n"
        },
        {
            "cell_type": "code",
            "execution_count": 41,
            "metadata": {
                "id": "2a3a08cc361848f38b0f7d1a3f639ee6"
            },
            "outputs": [
                {
                    "name": "stdout",
                    "output_type": "stream",
                    "text": "sample#: 2 - predicted value: 1 - actual value: 0\nsample#: 27 - predicted value: 0 - actual value: 1\nsample#: 80 - predicted value: 1 - actual value: 0\nsample#: 246 - predicted value: 1 - actual value: 0\ndone!\n"
                }
            ],
            "source": "sampleSeq=0\nN_samples=0\n\nfor x_test, y_test in validation_loader:\n    model.eval()\n    z=model(x_test)\n    _, yhat=torch.max(z.data,1)\n    \n    for i in range(len(y_test)):\n        sampleSeq += 1\n        if yhat[i] != y_test[i]:\n            print(\"sample#: %d - predicted value: %d - actual value: %d\" % (sampleSeq, yhat[i], y_test[i]))\n            N_samples += 1\n            if N_samples >= 4:\n                break\n    if N_samples >=4:\n        break\n        \nprint(\"done!\")"
        }
    ],
    "metadata": {
        "kernelspec": {
            "display_name": "Python 3.9",
            "language": "python",
            "name": "python3"
        },
        "language_info": {
            "codemirror_mode": {
                "name": "ipython",
                "version": 3
            },
            "file_extension": ".py",
            "mimetype": "text/x-python",
            "name": "python",
            "nbconvert_exporter": "python",
            "pygments_lexer": "ipython3",
            "version": "3.9.12"
        }
    },
    "nbformat": 4,
    "nbformat_minor": 2
}